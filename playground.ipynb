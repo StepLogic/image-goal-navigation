{
 "cells": [
  {
   "cell_type": "markdown",
   "id": "078cb2b7",
   "metadata": {},
   "source": [
    "## Drive Any Robot\n",
    "Source[https://github.com/robodhruv/drive-any-robot/tree/main/deployment/src]"
   ]
  },
  {
   "cell_type": "code",
   "execution_count": 23,
   "id": "33e23be4",
   "metadata": {},
   "outputs": [],
   "source": [
    "import numpy as np\n",
    "from typing import Tuple\n",
    "from types import SimpleNamespace\n",
    "import math\n",
    "MAX_V = 5.55\n",
    "MAX_W = math.pi/2\n",
    "DT = 0.05\n",
    "# RATE = 60\n",
    "EPS = 1e-8\n",
    "\n",
    "\n",
    "def clip_angle(theta):\n",
    "\t\"\"\"Clip angle to [-pi, pi]\"\"\"\n",
    "\ttheta %= 2 * np.pi\n",
    "\tif -np.pi < theta < np.pi:\n",
    "\t\treturn theta\n",
    "\treturn theta - 2 * np.pi\n",
    "      \n",
    "\n",
    "def pd_controller(waypoint: np.ndarray):\n",
    "\t\"\"\"PD controller for the robot\"\"\"\n",
    "\tassert len(waypoint) == 2 or len(waypoint) == 4, \"waypoint must be a 2D or 4D vector\"\n",
    "\tif len(waypoint) == 2:\n",
    "\t\tdx, dy = waypoint\n",
    "\telse:\n",
    "\t\tdx, dy, hx, hy = waypoint\n",
    "\t# this controller only uses the predicted heading if dx and dy near zero\n",
    "\tif len(waypoint) == 4 and np.abs(dx) < EPS and np.abs(dy) < EPS:\n",
    "\t\tv = 0\n",
    "\t\tw = clip_angle(np.arctan2(hy, hx))/DT\t\t\n",
    "\telif np.abs(dx) < EPS:\n",
    "\t\tv =  0\n",
    "\t\tw = np.sign(dy) * np.pi/(2*DT)\n",
    "\telse:\n",
    "\t\tv = dx / DT\n",
    "\t\tw = np.arctan(dy/dx) / DT\n",
    "\tv = np.clip(v, 0, MAX_V)\n",
    "\tw = np.clip(w, -MAX_W, MAX_W)\n",
    "\treturn v, w\n",
    "\n",
    "\n"
   ]
  },
  {
   "cell_type": "code",
   "execution_count": 24,
   "id": "3750b0ec",
   "metadata": {},
   "outputs": [],
   "source": [
    "args = SimpleNamespace(\n",
    "model=\"gnm_large\",\n",
    "close_threshold=3,\n",
    "radius=2,\n",
    "waypoint=2,\n",
    "goal_node=-1\n",
    ")"
   ]
  },
  {
   "cell_type": "code",
   "execution_count": 25,
   "id": "827f5747",
   "metadata": {},
   "outputs": [
    {
     "name": "stdout",
     "output_type": "stream",
     "text": [
      "Loading model from deployment/model_weights/gnm_large.pth\n"
     ]
    }
   ],
   "source": [
    "# ROS\n",
    "from sensor_msgs.msg import Image\n",
    "from std_msgs.msg import Bool, Float32MultiArray\n",
    "\n",
    "import torch\n",
    "from PIL import Image as PILImage\n",
    "import numpy as np\n",
    "import os\n",
    "import argparse\n",
    "import yaml\n",
    "# UTILS\n",
    "from deployment.src.utils import msg_to_pil, to_numpy, transform_images, load_model\n",
    "\n",
    "MODEL_WEIGHTS_PATH = \"deployment/model_weights\"\n",
    "MODEL_CONFIG_PATH = \"deployment/config/models.yaml\"\n",
    "# DEFAULT MODEL PARAMETERS (can be overwritten by model.yaml)\n",
    "model_params = {\n",
    "    \"path\": \"gnm_large.pth\", # path of the model in ../model_weights\n",
    "    \"model_type\": \"gnm\", # gnm (conditioned), stacked, or siamese\n",
    "    \"context\": 5, # number of images to use as context\n",
    "    \"len_traj_pred\": 5, # number of waypoints to predict\n",
    "    \"normalize\": True, # bool to determine whether or not normalize images\n",
    "    \"image_size\": [85, 64], # (width, height)\n",
    "    \"normalize\": True, # bool to determine whether or not normalize the waypoints\n",
    "    \"learn_angle\": True, # bool to determine whether or not to learn/predict heading of the robot\n",
    "    \"obs_encoding_size\": 1024, # size of the encoding of the observation [only used by gnm and siamese]\n",
    "    \"goal_encoding_size\": 1024, # size of the encoding of the goal [only used by gnm and siamese]\n",
    "    \"obsgoal_encoding_size\": 2048, # size of the encoding of the observation and goal [only used by stacked model]\n",
    "}\n",
    "\n",
    "# GLOBALS\n",
    "context_queue = []\n",
    "\n",
    "\n",
    "device = torch.device(\"cuda\")    \n",
    "topomap_dir = f\"carla_trajectories/0\"\n",
    "num_nodes = len(os.listdir(topomap_dir))-2\n",
    "topomap = []\n",
    "for i in range(0,num_nodes):\n",
    "    image_path = os.path.join(topomap_dir, f\"{i}.jpg\")\n",
    "    topomap.append(PILImage.open(image_path))\n",
    "\n",
    "# load model parameters\n",
    "with open(MODEL_CONFIG_PATH, \"r\") as f:\n",
    "    model_config = yaml.safe_load(f)\n",
    "for param in model_config:\n",
    "    model_params[param] = model_config[param]\n",
    "\n",
    "# load model weights\n",
    "model_filename = model_config[args.model][\"path\"]\n",
    "model_path = os.path.join(MODEL_WEIGHTS_PATH, model_filename)\n",
    "if os.path.exists(model_path):\n",
    "    print(f\"Loading model from {model_path}\")\n",
    "else:\n",
    "    raise FileNotFoundError(f\"Model weights not found at {model_path}\")\n",
    "model = load_model(\n",
    "    model_path,\n",
    "    model_params[\"model_type\"],\n",
    "    model_params[\"context\"],\n",
    "    model_params[\"len_traj_pred\"],\n",
    "    model_params[\"learn_angle\"], \n",
    "    model_params[\"obs_encoding_size\"], \n",
    "    model_params[\"goal_encoding_size\"],\n",
    "    model_params[\"obsgoal_encoding_size\"],\n",
    "    device,\n",
    ")\n",
    "model.eval()\n",
    "\n",
    "\n",
    "\n",
    "closest_node = 0\n",
    "# assert -1 <= args.goal_node < len(topomap), \"Invalid goal index\"\n",
    "# if args.goal_node == -1:\n",
    "#     goal_node = len(topomap) - 1\n",
    "# else:\n",
    "#     goal_node = args.goal_node\n",
    "goal_node=len(topomap)-1\n",
    "reached_goal = False\n",
    "\n",
    "# navigation loop"
   ]
  },
  {
   "cell_type": "code",
   "execution_count": 26,
   "id": "ae1dd721",
   "metadata": {
    "notebookRunGroups": {
     "groupValue": "1"
    }
   },
   "outputs": [],
   "source": [
    "# closest_node=0\n",
    "\n",
    "# def callback_obs(obs_img):\n",
    "#     if len(context_queue) < model_params[\"context\"] + 1:\n",
    "#         context_queue.append(obs_img)\n",
    "#     else:\n",
    "#         context_queue.pop(0)\n",
    "#         context_queue.append(obs_img)\n",
    "    \n",
    "\n",
    "# def main(slidding_window=False):\n",
    "#     if len(context_queue) > model_params[\"context\"]:\n",
    "#         global closest_node\n",
    "#         start = max(closest_node - args.radius, 0)\n",
    "#         end = min(closest_node + args.radius + 1, goal_node)\n",
    "#         distances = []\n",
    "#         waypoints = []\n",
    "#         for sg_img in topomap[start: end + 1]:\n",
    "#             transf_obs_img = transform_images(context_queue, model_params[\"image_size\"]).to(device)\n",
    "#             transf_sg_img = transform_images(sg_img, model_params[\"image_size\"]).to(device)\n",
    "#             dist, waypoint = model(transf_obs_img, transf_sg_img) \n",
    "#             distances.append(to_numpy(dist[0]))\n",
    "#             waypoints.append(to_numpy(waypoint[0]))\n",
    "#         # look for closest node\n",
    "#         closest_node = np.argmin(distances)\n",
    "#         # chose subgoal and output waypoints\n",
    "#         if distances[closest_node] > args.close_threshold:\n",
    "#             chosen_waypoint = waypoints[closest_node][args.waypoint]\n",
    "#         else:\n",
    "#             chosen_waypoint = waypoints[min(\n",
    "#                 closest_node + 1, len(waypoints) - 1)][args.waypoint]\n",
    "#         if model_params[\"normalize\"]:\n",
    "#             chosen_waypoint[:2] *= (MAX_V * DT)\n",
    "#         if slidding_window:\n",
    "#              closest_node += start\n",
    "#         if closest_node==goal_node: \n",
    "#            print(f'Goal Reached',closest_node==goal_node)\n",
    "#         print(\"Closest Node\",closest_node)\n",
    "#         return pd_controller(chosen_waypoint)\n",
    "#     return 0.0,0.0\n",
    "\n"
   ]
  },
  {
   "cell_type": "markdown",
   "id": "fecae307",
   "metadata": {},
   "source": [
    "## Check Accuracy of Similarity Network"
   ]
  },
  {
   "cell_type": "code",
   "execution_count": 27,
   "id": "91004363",
   "metadata": {},
   "outputs": [],
   "source": [
    "\n",
    "def callback_obs(obs_img):\n",
    "    if len(context_queue) < model_params[\"context\"] + 1:\n",
    "        context_queue.append(obs_img)\n",
    "    else:\n",
    "        context_queue.pop(0)\n",
    "        context_queue.append(obs_img)\n",
    "    \n",
    "\n",
    "def run_model(sliding_window=False,closest_node=0,map=[]):\n",
    "    if len(context_queue) > model_params[\"context\"]:\n",
    "        start = max(closest_node - args.radius, 0)\n",
    "        end = min(closest_node + args.radius + 1, goal_node)\n",
    "        distances = []\n",
    "        waypoints = []\n",
    "        for sg_img in map[start: end + 1]:\n",
    "            transf_obs_img = transform_images(context_queue, model_params[\"image_size\"]).to(device)\n",
    "            transf_sg_img = transform_images(sg_img, model_params[\"image_size\"]).to(device)\n",
    "            dist, waypoint = model(transf_obs_img, transf_sg_img) \n",
    "            distances.append(to_numpy(dist[0]))\n",
    "            waypoints.append(to_numpy(waypoint[0]))\n",
    "        # look for closest node\n",
    "        closest_node = np.argmin(distances)\n",
    "    \n",
    "        if sliding_window:\n",
    "             closest_node += start\n",
    "        if closest_node==goal_node: \n",
    "           print(f'Goal Reached',closest_node==goal_node)\n",
    "        return closest_node\n",
    "    print(\"Context not enough\")\n",
    "    return None"
   ]
  },
  {
   "cell_type": "code",
   "execution_count": 28,
   "id": "f5c4ef8b",
   "metadata": {},
   "outputs": [],
   "source": [
    "\n",
    "\n",
    "# def percentage_accuracy(mse_):\n",
    "#     pass"
   ]
  },
  {
   "cell_type": "markdown",
   "id": "b8d3587b",
   "metadata": {},
   "source": [
    "### Not using Sliding Window"
   ]
  },
  {
   "cell_type": "code",
   "execution_count": 29,
   "id": "08981915",
   "metadata": {},
   "outputs": [],
   "source": [
    "results_for_no_sliding_window={}\n",
    "results_with_sliding_window={}"
   ]
  },
  {
   "cell_type": "code",
   "execution_count": 30,
   "id": "13bb574b",
   "metadata": {},
   "outputs": [],
   "source": [
    "trajectories=[\"carla_trajectories/0\",\"carla_trajectories/1\",\"go_stanford/no1vc_7_0\",\"go_stanford/sim39hF_0_17\",\"\"]"
   ]
  },
  {
   "cell_type": "code",
   "execution_count": 48,
   "id": "d08a9c1c",
   "metadata": {},
   "outputs": [
    {
     "name": "stdout",
     "output_type": "stream",
     "text": [
      "\n",
      "\n",
      "carla_trajectories/0 \n",
      "top_five_accuracy with window(avg) 100.0% \n",
      "top_five_accuracy without window(avg): 20.930232558139537% \n",
      "max_accuracy_without_window 20.930232558139537 [20.930232558139537, 20.930232558139537, 20.930232558139537, 20.930232558139537, 20.930232558139537] \n",
      "max_accuracy_with_window 100.0 \n",
      "length of trajectory 43\n"
     ]
    }
   ],
   "source": [
    "import numpy as np\n",
    "def top_five_accuracy(node,obs):\n",
    "    if node in range(max(obs-3,0),min(obs+2,num_nodes)):\n",
    "        return 1\n",
    "    return 0\n",
    "\n",
    "def run_gnm(sliding_window=False,closest_node=0,topo_map=[]):\n",
    "    if len(context_queue) > model_params[\"context\"]:\n",
    "        start = max(closest_node - args.radius, 0)\n",
    "        end = min(closest_node + args.radius + 1, goal_node)\n",
    "        distances = []\n",
    "        waypoints = []\n",
    "        for sg_img in topo_map[start: end + 1]:\n",
    "            transf_obs_img = transform_images(context_queue, model_params[\"image_size\"]).to(device)\n",
    "            transf_sg_img = transform_images(sg_img, model_params[\"image_size\"]).to(device)\n",
    "            dist, waypoint = model(transf_obs_img, transf_sg_img) \n",
    "            distances.append(to_numpy(dist[0]))\n",
    "            waypoints.append(to_numpy(waypoint[0]))\n",
    "        # look for closest node\n",
    "        closest_node = np.argmin(distances)\n",
    "    \n",
    "        if sliding_window:\n",
    "             closest_node += start\n",
    "        if closest_node==goal_node: \n",
    "            return closest_node\n",
    "        #    print(f'Goal Reached',closest_node==goal_node)\n",
    "        return closest_node\n",
    "    print(\"Context not enough\")\n",
    "    return None\n",
    "\n",
    "for map in trajectories:\n",
    "    traversals_without_window=[]\n",
    "    traversals_with_window=[]\n",
    "    num_nodes = len(os.listdir(map))-2\n",
    "    topo_map=[PILImage.open(os.path.join(map, f\"{i}.jpg\")) for i in range(num_nodes)]\n",
    "    # print(topo_map)\n",
    "    for  k in range(5): #repeat traversal 5 times\n",
    "        with_sliding_window=[]\n",
    "        without_sliding_window=[]\n",
    "        context_queue = []\n",
    "        values_1=0\n",
    "        values_2=0\n",
    "        # topomap.append(PILImage.open(image_path))\n",
    "        # fill up context\n",
    "        for j in range(5):\n",
    "            image_path = os.path.join(map, f\"{0}.jpg\") #in deployment the vehicle see the intial observation till waypoints are predicted\n",
    "            callback_obs(PILImage.open(image_path))\n",
    "        for i in range(num_nodes):\n",
    "            image_path = os.path.join(map, f\"{i}.jpg\")\n",
    "            callback_obs(PILImage.open(image_path))\n",
    "            values_1 = run_gnm(True,values_1,topo_map)\n",
    "            if values_1 != None:\n",
    "                # values_1 +=j\n",
    "                res=top_five_accuracy(values_1,i)\n",
    "                with_sliding_window.append(res)\n",
    "            values_2 = run_model(False,values_2,topo_map)\n",
    "            if values_2 != None:\n",
    "                # values+=j\n",
    "                res=top_five_accuracy(values_2,i)\n",
    "                without_sliding_window.append(res)\n",
    "            accuracy_with_window=(sum(with_sliding_window)/len(with_sliding_window))*100\n",
    "            accuracy_without_window=(sum(without_sliding_window)/len(without_sliding_window))*100\n",
    "        traversals_with_window.append(accuracy_with_window)\n",
    "        traversals_without_window.append(accuracy_without_window)\n",
    "         \n",
    "\n",
    "    results_with_sliding_window[map]=np.average(np.array(traversals_with_window))\n",
    "    results_for_no_sliding_window[map]=np.average(np.array(traversals_without_window))\n",
    "    print(f\"\\n\\n{map} \\ntop_five_accuracy with window(avg) {np.average(np.array(traversals_with_window))}% \\ntop_five_accuracy without window(avg): {np.average(np.array(traversals_without_window))}% \\nmax_accuracy_without_window {max(traversals_without_window)} {traversals_without_window} \\nmax_accuracy_with_window {max(traversals_with_window)} \\nlength of trajectory {num_nodes}\")"
   ]
  },
  {
   "cell_type": "markdown",
   "id": "8e87f166",
   "metadata": {},
   "source": [
    "### Using Sliding window"
   ]
  },
  {
   "cell_type": "code",
   "execution_count": null,
   "id": "23ee0dcd",
   "metadata": {},
   "outputs": [
    {
     "name": "stdout",
     "output_type": "stream",
     "text": [
      "Goal Reached True\n",
      "top_five_accuracy 88.37209302325581%\n"
     ]
    }
   ],
   "source": [
    "x=[]\n",
    "context_queue = [] #reset context queue\n",
    "for i in range(num_nodes):\n",
    "    image_path = os.path.join(topomap_dir, f\"{i}.jpg\")\n",
    "    callback_obs(PILImage.open(image_path))\n",
    "    values = run_model(True)\n",
    "    if values != None:\n",
    "        res=top_five_accuracy(values,i)\n",
    "        x.append(res)\n",
    "print(f\"top_five_accuracy {(sum(x)/len(x))*100}%\")\n",
    "results_for_no_sliding_window[topomap_dir]=top_five_accuracy\n",
    "print(f\"top_five_accuracy {top_five_accuracy}%\")"
   ]
  },
  {
   "cell_type": "markdown",
   "id": "d695123b",
   "metadata": {},
   "source": [
    "## Predict waypoint i.e closest nodes to current observation"
   ]
  },
  {
   "cell_type": "code",
   "execution_count": null,
   "id": "1e316cd4",
   "metadata": {},
   "outputs": [
    {
     "name": "stdout",
     "output_type": "stream",
     "text": [
      "obs 0\n",
      "Closest Node 0\n",
      "obs 1\n",
      "Closest Node 1\n",
      "obs 2\n",
      "Closest Node 2\n",
      "obs 3\n",
      "Closest Node 3\n",
      "obs 4\n",
      "Closest Node 3\n",
      "obs 5\n",
      "Closest Node 4\n",
      "obs 6\n",
      "Closest Node 4\n",
      "obs 7\n",
      "Closest Node 5\n",
      "obs 8\n",
      "Closest Node 5\n",
      "obs 9\n",
      "Closest Node 5\n",
      "obs 10\n",
      "Closest Node 5\n",
      "obs 11\n",
      "Closest Node 1\n",
      "obs 12\n",
      "Closest Node 3\n",
      "obs 13\n",
      "Closest Node 4\n",
      "obs 14\n",
      "Closest Node 5\n",
      "obs 15\n",
      "Closest Node 5\n",
      "obs 16\n",
      "Closest Node 5\n",
      "obs 17\n",
      "Closest Node 1\n",
      "obs 18\n",
      "Closest Node 4\n",
      "obs 19\n",
      "Closest Node 3\n",
      "obs 20\n",
      "Closest Node 2\n",
      "obs 21\n"
     ]
    },
    {
     "ename": "KeyboardInterrupt",
     "evalue": "",
     "output_type": "error",
     "traceback": [
      "\u001b[0;31m---------------------------------------------------------------------------\u001b[0m",
      "\u001b[0;31mKeyboardInterrupt\u001b[0m                         Traceback (most recent call last)",
      "Cell \u001b[0;32mIn[8], line 11\u001b[0m\n\u001b[1;32m      9\u001b[0m image_path \u001b[39m=\u001b[39m os\u001b[39m.\u001b[39mpath\u001b[39m.\u001b[39mjoin(topomap_dir, \u001b[39mf\u001b[39m\u001b[39m\"\u001b[39m\u001b[39m{\u001b[39;00mi\u001b[39m}\u001b[39;00m\u001b[39m.jpg\u001b[39m\u001b[39m\"\u001b[39m)\n\u001b[1;32m     10\u001b[0m callback_obs(PILImage\u001b[39m.\u001b[39mopen(image_path))\n\u001b[0;32m---> 11\u001b[0m values \u001b[39m=\u001b[39m main()\n\u001b[1;32m     12\u001b[0m \u001b[39mif\u001b[39;00m values \u001b[39mis\u001b[39;00m \u001b[39mnot\u001b[39;00m \u001b[39mNone\u001b[39;00m:\n\u001b[1;32m     13\u001b[0m     v,w\u001b[39m=\u001b[39mvalues\n",
      "Cell \u001b[0;32mIn[7], line 21\u001b[0m, in \u001b[0;36mmain\u001b[0;34m(slidding_window)\u001b[0m\n\u001b[1;32m     19\u001b[0m transf_obs_img \u001b[39m=\u001b[39m transform_images(context_queue, model_params[\u001b[39m\"\u001b[39m\u001b[39mimage_size\u001b[39m\u001b[39m\"\u001b[39m])\u001b[39m.\u001b[39mto(device)\n\u001b[1;32m     20\u001b[0m transf_sg_img \u001b[39m=\u001b[39m transform_images(sg_img, model_params[\u001b[39m\"\u001b[39m\u001b[39mimage_size\u001b[39m\u001b[39m\"\u001b[39m])\u001b[39m.\u001b[39mto(device)\n\u001b[0;32m---> 21\u001b[0m dist, waypoint \u001b[39m=\u001b[39m model(transf_obs_img, transf_sg_img) \n\u001b[1;32m     22\u001b[0m distances\u001b[39m.\u001b[39mappend(to_numpy(dist[\u001b[39m0\u001b[39m]))\n\u001b[1;32m     23\u001b[0m waypoints\u001b[39m.\u001b[39mappend(to_numpy(waypoint[\u001b[39m0\u001b[39m]))\n",
      "File \u001b[0;32m~/anaconda3/envs/gnm_train/lib/python3.8/site-packages/torch/nn/modules/module.py:1110\u001b[0m, in \u001b[0;36mModule._call_impl\u001b[0;34m(self, *input, **kwargs)\u001b[0m\n\u001b[1;32m   1106\u001b[0m \u001b[39m# If we don't have any hooks, we want to skip the rest of the logic in\u001b[39;00m\n\u001b[1;32m   1107\u001b[0m \u001b[39m# this function, and just call forward.\u001b[39;00m\n\u001b[1;32m   1108\u001b[0m \u001b[39mif\u001b[39;00m \u001b[39mnot\u001b[39;00m (\u001b[39mself\u001b[39m\u001b[39m.\u001b[39m_backward_hooks \u001b[39mor\u001b[39;00m \u001b[39mself\u001b[39m\u001b[39m.\u001b[39m_forward_hooks \u001b[39mor\u001b[39;00m \u001b[39mself\u001b[39m\u001b[39m.\u001b[39m_forward_pre_hooks \u001b[39mor\u001b[39;00m _global_backward_hooks\n\u001b[1;32m   1109\u001b[0m         \u001b[39mor\u001b[39;00m _global_forward_hooks \u001b[39mor\u001b[39;00m _global_forward_pre_hooks):\n\u001b[0;32m-> 1110\u001b[0m     \u001b[39mreturn\u001b[39;00m forward_call(\u001b[39m*\u001b[39;49m\u001b[39minput\u001b[39;49m, \u001b[39m*\u001b[39;49m\u001b[39m*\u001b[39;49mkwargs)\n\u001b[1;32m   1111\u001b[0m \u001b[39m# Do not call functions when jit is used\u001b[39;00m\n\u001b[1;32m   1112\u001b[0m full_backward_hooks, non_full_backward_hooks \u001b[39m=\u001b[39m [], []\n",
      "File \u001b[0;32m~/kojogyaase/scratch/drive-any-robot/train/gnm_train/models/gnm.py:63\u001b[0m, in \u001b[0;36mGNM.forward\u001b[0;34m(self, obs_img, goal_img)\u001b[0m\n\u001b[1;32m     60\u001b[0m \u001b[39mdef\u001b[39;00m \u001b[39mforward\u001b[39m(\n\u001b[1;32m     61\u001b[0m     \u001b[39mself\u001b[39m, obs_img: torch\u001b[39m.\u001b[39mtensor, goal_img: torch\u001b[39m.\u001b[39mtensor\n\u001b[1;32m     62\u001b[0m ) \u001b[39m-\u001b[39m\u001b[39m>\u001b[39m Tuple[torch\u001b[39m.\u001b[39mTensor, torch\u001b[39m.\u001b[39mTensor]:\n\u001b[0;32m---> 63\u001b[0m     obs_encoding \u001b[39m=\u001b[39m \u001b[39mself\u001b[39;49m\u001b[39m.\u001b[39;49mobs_mobilenet(obs_img)\n\u001b[1;32m     64\u001b[0m     obs_encoding \u001b[39m=\u001b[39m \u001b[39mself\u001b[39m\u001b[39m.\u001b[39mflatten(obs_encoding)\n\u001b[1;32m     65\u001b[0m     obs_encoding \u001b[39m=\u001b[39m \u001b[39mself\u001b[39m\u001b[39m.\u001b[39mcompress_observation(obs_encoding)\n",
      "File \u001b[0;32m~/anaconda3/envs/gnm_train/lib/python3.8/site-packages/torch/nn/modules/module.py:1110\u001b[0m, in \u001b[0;36mModule._call_impl\u001b[0;34m(self, *input, **kwargs)\u001b[0m\n\u001b[1;32m   1106\u001b[0m \u001b[39m# If we don't have any hooks, we want to skip the rest of the logic in\u001b[39;00m\n\u001b[1;32m   1107\u001b[0m \u001b[39m# this function, and just call forward.\u001b[39;00m\n\u001b[1;32m   1108\u001b[0m \u001b[39mif\u001b[39;00m \u001b[39mnot\u001b[39;00m (\u001b[39mself\u001b[39m\u001b[39m.\u001b[39m_backward_hooks \u001b[39mor\u001b[39;00m \u001b[39mself\u001b[39m\u001b[39m.\u001b[39m_forward_hooks \u001b[39mor\u001b[39;00m \u001b[39mself\u001b[39m\u001b[39m.\u001b[39m_forward_pre_hooks \u001b[39mor\u001b[39;00m _global_backward_hooks\n\u001b[1;32m   1109\u001b[0m         \u001b[39mor\u001b[39;00m _global_forward_hooks \u001b[39mor\u001b[39;00m _global_forward_pre_hooks):\n\u001b[0;32m-> 1110\u001b[0m     \u001b[39mreturn\u001b[39;00m forward_call(\u001b[39m*\u001b[39;49m\u001b[39minput\u001b[39;49m, \u001b[39m*\u001b[39;49m\u001b[39m*\u001b[39;49mkwargs)\n\u001b[1;32m   1111\u001b[0m \u001b[39m# Do not call functions when jit is used\u001b[39;00m\n\u001b[1;32m   1112\u001b[0m full_backward_hooks, non_full_backward_hooks \u001b[39m=\u001b[39m [], []\n",
      "File \u001b[0;32m~/anaconda3/envs/gnm_train/lib/python3.8/site-packages/torch/nn/modules/container.py:141\u001b[0m, in \u001b[0;36mSequential.forward\u001b[0;34m(self, input)\u001b[0m\n\u001b[1;32m    139\u001b[0m \u001b[39mdef\u001b[39;00m \u001b[39mforward\u001b[39m(\u001b[39mself\u001b[39m, \u001b[39minput\u001b[39m):\n\u001b[1;32m    140\u001b[0m     \u001b[39mfor\u001b[39;00m module \u001b[39min\u001b[39;00m \u001b[39mself\u001b[39m:\n\u001b[0;32m--> 141\u001b[0m         \u001b[39minput\u001b[39m \u001b[39m=\u001b[39m module(\u001b[39minput\u001b[39;49m)\n\u001b[1;32m    142\u001b[0m     \u001b[39mreturn\u001b[39;00m \u001b[39minput\u001b[39m\n",
      "File \u001b[0;32m~/anaconda3/envs/gnm_train/lib/python3.8/site-packages/torch/nn/modules/module.py:1110\u001b[0m, in \u001b[0;36mModule._call_impl\u001b[0;34m(self, *input, **kwargs)\u001b[0m\n\u001b[1;32m   1106\u001b[0m \u001b[39m# If we don't have any hooks, we want to skip the rest of the logic in\u001b[39;00m\n\u001b[1;32m   1107\u001b[0m \u001b[39m# this function, and just call forward.\u001b[39;00m\n\u001b[1;32m   1108\u001b[0m \u001b[39mif\u001b[39;00m \u001b[39mnot\u001b[39;00m (\u001b[39mself\u001b[39m\u001b[39m.\u001b[39m_backward_hooks \u001b[39mor\u001b[39;00m \u001b[39mself\u001b[39m\u001b[39m.\u001b[39m_forward_hooks \u001b[39mor\u001b[39;00m \u001b[39mself\u001b[39m\u001b[39m.\u001b[39m_forward_pre_hooks \u001b[39mor\u001b[39;00m _global_backward_hooks\n\u001b[1;32m   1109\u001b[0m         \u001b[39mor\u001b[39;00m _global_forward_hooks \u001b[39mor\u001b[39;00m _global_forward_pre_hooks):\n\u001b[0;32m-> 1110\u001b[0m     \u001b[39mreturn\u001b[39;00m forward_call(\u001b[39m*\u001b[39;49m\u001b[39minput\u001b[39;49m, \u001b[39m*\u001b[39;49m\u001b[39m*\u001b[39;49mkwargs)\n\u001b[1;32m   1111\u001b[0m \u001b[39m# Do not call functions when jit is used\u001b[39;00m\n\u001b[1;32m   1112\u001b[0m full_backward_hooks, non_full_backward_hooks \u001b[39m=\u001b[39m [], []\n",
      "File \u001b[0;32m~/anaconda3/envs/gnm_train/lib/python3.8/site-packages/torchvision/models/mobilenetv2.py:83\u001b[0m, in \u001b[0;36mInvertedResidual.forward\u001b[0;34m(self, x)\u001b[0m\n\u001b[1;32m     81\u001b[0m \u001b[39mdef\u001b[39;00m \u001b[39mforward\u001b[39m(\u001b[39mself\u001b[39m, x: Tensor) \u001b[39m-\u001b[39m\u001b[39m>\u001b[39m Tensor:\n\u001b[1;32m     82\u001b[0m     \u001b[39mif\u001b[39;00m \u001b[39mself\u001b[39m\u001b[39m.\u001b[39muse_res_connect:\n\u001b[0;32m---> 83\u001b[0m         \u001b[39mreturn\u001b[39;00m x \u001b[39m+\u001b[39m \u001b[39mself\u001b[39;49m\u001b[39m.\u001b[39;49mconv(x)\n\u001b[1;32m     84\u001b[0m     \u001b[39melse\u001b[39;00m:\n\u001b[1;32m     85\u001b[0m         \u001b[39mreturn\u001b[39;00m \u001b[39mself\u001b[39m\u001b[39m.\u001b[39mconv(x)\n",
      "File \u001b[0;32m~/anaconda3/envs/gnm_train/lib/python3.8/site-packages/torch/nn/modules/module.py:1110\u001b[0m, in \u001b[0;36mModule._call_impl\u001b[0;34m(self, *input, **kwargs)\u001b[0m\n\u001b[1;32m   1106\u001b[0m \u001b[39m# If we don't have any hooks, we want to skip the rest of the logic in\u001b[39;00m\n\u001b[1;32m   1107\u001b[0m \u001b[39m# this function, and just call forward.\u001b[39;00m\n\u001b[1;32m   1108\u001b[0m \u001b[39mif\u001b[39;00m \u001b[39mnot\u001b[39;00m (\u001b[39mself\u001b[39m\u001b[39m.\u001b[39m_backward_hooks \u001b[39mor\u001b[39;00m \u001b[39mself\u001b[39m\u001b[39m.\u001b[39m_forward_hooks \u001b[39mor\u001b[39;00m \u001b[39mself\u001b[39m\u001b[39m.\u001b[39m_forward_pre_hooks \u001b[39mor\u001b[39;00m _global_backward_hooks\n\u001b[1;32m   1109\u001b[0m         \u001b[39mor\u001b[39;00m _global_forward_hooks \u001b[39mor\u001b[39;00m _global_forward_pre_hooks):\n\u001b[0;32m-> 1110\u001b[0m     \u001b[39mreturn\u001b[39;00m forward_call(\u001b[39m*\u001b[39;49m\u001b[39minput\u001b[39;49m, \u001b[39m*\u001b[39;49m\u001b[39m*\u001b[39;49mkwargs)\n\u001b[1;32m   1111\u001b[0m \u001b[39m# Do not call functions when jit is used\u001b[39;00m\n\u001b[1;32m   1112\u001b[0m full_backward_hooks, non_full_backward_hooks \u001b[39m=\u001b[39m [], []\n",
      "File \u001b[0;32m~/anaconda3/envs/gnm_train/lib/python3.8/site-packages/torch/nn/modules/container.py:141\u001b[0m, in \u001b[0;36mSequential.forward\u001b[0;34m(self, input)\u001b[0m\n\u001b[1;32m    139\u001b[0m \u001b[39mdef\u001b[39;00m \u001b[39mforward\u001b[39m(\u001b[39mself\u001b[39m, \u001b[39minput\u001b[39m):\n\u001b[1;32m    140\u001b[0m     \u001b[39mfor\u001b[39;00m module \u001b[39min\u001b[39;00m \u001b[39mself\u001b[39m:\n\u001b[0;32m--> 141\u001b[0m         \u001b[39minput\u001b[39m \u001b[39m=\u001b[39m module(\u001b[39minput\u001b[39;49m)\n\u001b[1;32m    142\u001b[0m     \u001b[39mreturn\u001b[39;00m \u001b[39minput\u001b[39m\n",
      "File \u001b[0;32m~/anaconda3/envs/gnm_train/lib/python3.8/site-packages/torch/nn/modules/module.py:1110\u001b[0m, in \u001b[0;36mModule._call_impl\u001b[0;34m(self, *input, **kwargs)\u001b[0m\n\u001b[1;32m   1106\u001b[0m \u001b[39m# If we don't have any hooks, we want to skip the rest of the logic in\u001b[39;00m\n\u001b[1;32m   1107\u001b[0m \u001b[39m# this function, and just call forward.\u001b[39;00m\n\u001b[1;32m   1108\u001b[0m \u001b[39mif\u001b[39;00m \u001b[39mnot\u001b[39;00m (\u001b[39mself\u001b[39m\u001b[39m.\u001b[39m_backward_hooks \u001b[39mor\u001b[39;00m \u001b[39mself\u001b[39m\u001b[39m.\u001b[39m_forward_hooks \u001b[39mor\u001b[39;00m \u001b[39mself\u001b[39m\u001b[39m.\u001b[39m_forward_pre_hooks \u001b[39mor\u001b[39;00m _global_backward_hooks\n\u001b[1;32m   1109\u001b[0m         \u001b[39mor\u001b[39;00m _global_forward_hooks \u001b[39mor\u001b[39;00m _global_forward_pre_hooks):\n\u001b[0;32m-> 1110\u001b[0m     \u001b[39mreturn\u001b[39;00m forward_call(\u001b[39m*\u001b[39;49m\u001b[39minput\u001b[39;49m, \u001b[39m*\u001b[39;49m\u001b[39m*\u001b[39;49mkwargs)\n\u001b[1;32m   1111\u001b[0m \u001b[39m# Do not call functions when jit is used\u001b[39;00m\n\u001b[1;32m   1112\u001b[0m full_backward_hooks, non_full_backward_hooks \u001b[39m=\u001b[39m [], []\n",
      "File \u001b[0;32m~/anaconda3/envs/gnm_train/lib/python3.8/site-packages/torch/nn/modules/conv.py:447\u001b[0m, in \u001b[0;36mConv2d.forward\u001b[0;34m(self, input)\u001b[0m\n\u001b[1;32m    446\u001b[0m \u001b[39mdef\u001b[39;00m \u001b[39mforward\u001b[39m(\u001b[39mself\u001b[39m, \u001b[39minput\u001b[39m: Tensor) \u001b[39m-\u001b[39m\u001b[39m>\u001b[39m Tensor:\n\u001b[0;32m--> 447\u001b[0m     \u001b[39mreturn\u001b[39;00m \u001b[39mself\u001b[39;49m\u001b[39m.\u001b[39;49m_conv_forward(\u001b[39minput\u001b[39;49m, \u001b[39mself\u001b[39;49m\u001b[39m.\u001b[39;49mweight, \u001b[39mself\u001b[39;49m\u001b[39m.\u001b[39;49mbias)\n",
      "File \u001b[0;32m~/anaconda3/envs/gnm_train/lib/python3.8/site-packages/torch/nn/modules/conv.py:443\u001b[0m, in \u001b[0;36mConv2d._conv_forward\u001b[0;34m(self, input, weight, bias)\u001b[0m\n\u001b[1;32m    439\u001b[0m \u001b[39mif\u001b[39;00m \u001b[39mself\u001b[39m\u001b[39m.\u001b[39mpadding_mode \u001b[39m!=\u001b[39m \u001b[39m'\u001b[39m\u001b[39mzeros\u001b[39m\u001b[39m'\u001b[39m:\n\u001b[1;32m    440\u001b[0m     \u001b[39mreturn\u001b[39;00m F\u001b[39m.\u001b[39mconv2d(F\u001b[39m.\u001b[39mpad(\u001b[39minput\u001b[39m, \u001b[39mself\u001b[39m\u001b[39m.\u001b[39m_reversed_padding_repeated_twice, mode\u001b[39m=\u001b[39m\u001b[39mself\u001b[39m\u001b[39m.\u001b[39mpadding_mode),\n\u001b[1;32m    441\u001b[0m                     weight, bias, \u001b[39mself\u001b[39m\u001b[39m.\u001b[39mstride,\n\u001b[1;32m    442\u001b[0m                     _pair(\u001b[39m0\u001b[39m), \u001b[39mself\u001b[39m\u001b[39m.\u001b[39mdilation, \u001b[39mself\u001b[39m\u001b[39m.\u001b[39mgroups)\n\u001b[0;32m--> 443\u001b[0m \u001b[39mreturn\u001b[39;00m F\u001b[39m.\u001b[39;49mconv2d(\u001b[39minput\u001b[39;49m, weight, bias, \u001b[39mself\u001b[39;49m\u001b[39m.\u001b[39;49mstride,\n\u001b[1;32m    444\u001b[0m                 \u001b[39mself\u001b[39;49m\u001b[39m.\u001b[39;49mpadding, \u001b[39mself\u001b[39;49m\u001b[39m.\u001b[39;49mdilation, \u001b[39mself\u001b[39;49m\u001b[39m.\u001b[39;49mgroups)\n",
      "\u001b[0;31mKeyboardInterrupt\u001b[0m: "
     ]
    }
   ],
   "source": [
    "gnm_w=[]\n",
    "gnm_v=[]\n",
    "x=[]\n",
    "for i in range(5):\n",
    "    callback_obs(PILImage.open(image_path))\n",
    "for i in range(num_nodes):\n",
    "    print(\"obs\",i)\n",
    "    x.append(i)\n",
    "    image_path = os.path.join(topomap_dir, f\"{i}.jpg\")\n",
    "    callback_obs(PILImage.open(image_path))\n",
    "    values = main()\n",
    "    if values is not None:\n",
    "        v,w=values\n",
    "        gnm_w.append(w)\n",
    "        gnm_v.append(v)\n"
   ]
  },
  {
   "cell_type": "code",
   "execution_count": null,
   "id": "9e984568",
   "metadata": {},
   "outputs": [],
   "source": [
    "import json\n",
    "with open(\"carla_trajectories/0/traj_data.json\") as file:\n",
    "    gt=json.load(file)"
   ]
  },
  {
   "cell_type": "code",
   "execution_count": null,
   "id": "f1ac1f54",
   "metadata": {},
   "outputs": [],
   "source": [
    "def rmse(predictions,targets):\n",
    "    return np.sqrt(np.mean((predictions-targets)**2))"
   ]
  },
  {
   "cell_type": "markdown",
   "id": "f96a44df",
   "metadata": {},
   "source": [
    "## Comapare Predicted Linear and Angular Velocity Values to Collected Values"
   ]
  },
  {
   "cell_type": "code",
   "execution_count": null,
   "id": "505a56ba",
   "metadata": {},
   "outputs": [
    {
     "name": "stdout",
     "output_type": "stream",
     "text": [
      "0.6768506430337601\n",
      "le 43 43 43\n"
     ]
    },
    {
     "data": {
      "image/png": "[encoded data removed]",
      "text/plain": [
       "<Figure size 640x480 with 1 Axes>"
      ]
     },
     "metadata": {},
     "output_type": "display_data"
    },
    {
     "name": "stdout",
     "output_type": "stream",
     "text": [
      "RMSE for Omega 0.9995576936331113\n",
      "RMSE for Velocity 2.746744459691459\n"
     ]
    }
   ],
   "source": [
    "import matplotlib.pyplot as plt\n",
    "# plt.plot(x, gt[\"v\"], label='Ground Truth Velocity', color='blue')\n",
    "print(max(gt[\"w\"]))\n",
    "print(\"le\",len(gt[\"w\"]),len(gnm_v),num_nodes)\n",
    "plt.plot(x[:len(gt[\"w\"])], gt[\"w\"], label='Ground Truth Angular Velocity', color='green')\n",
    "plt.plot(x, gt[\"v\"], label='Ground Truth  Velocity', color='blue')\n",
    "\n",
    "plt.plot(x, gnm_v, label='Model Prediction Velocity', color='orange')\n",
    "plt.plot(x, gnm_w, label='Model Prediction Angular Velocity', color='red')\n",
    "\n",
    "plt.xlabel('X-axis Variable')\n",
    "plt.ylabel('Values')\n",
    "\n",
    "plt.xlabel('Velocity (v)')\n",
    "plt.ylabel('Angular Velocity (w)')\n",
    "plt.title('Ground Truth vs Model Predictions')\n",
    "plt.legend()\n",
    "plt.grid(True)\n",
    "plt.show()\n",
    "print(\"RMSE for Omega\",rmse(np.array(gnm_w),np.array(gt[\"w\"])))\n",
    "print(\"RMSE for Velocity\",rmse(np.array(gnm_v),np.array(gt[\"v\"])))"
   ]
  },
  {
   "cell_type": "code",
   "execution_count": null,
   "id": "8a39e4dd",
   "metadata": {},
   "outputs": [],
   "source": []
  }
 ],
 "metadata": {
  "kernelspec": {
   "display_name": "Python 3",
   "language": "python",
   "name": "python3"
  },
  "language_info": {
   "codemirror_mode": {
    "name": "ipython",
    "version": 3
   },
   "file_extension": ".py",
   "mimetype": "text/x-python",
   "name": "python",
   "nbconvert_exporter": "python",
   "pygments_lexer": "ipython3",
   "version": "3.8.5"
  }
 },
 "nbformat": 4,
 "nbformat_minor": 5
}
